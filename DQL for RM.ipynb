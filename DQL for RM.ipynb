{
  "cells": [
    {
      "cell_type": "markdown",
      "metadata": {
        "collapsed": true,
        "pycharm": {
          "name": "#%% md\n"
        }
      },
      "source": "# DQL - RM game with DCP\n"
    },
    {
      "cell_type": "code",
      "execution_count": 42,
      "outputs": [
        {
          "name": "stdout",
          "text": [
            "The autoreload extension is already loaded. To reload it, use:\n  %reload_ext autoreload\n"
          ],
          "output_type": "stream"
        }
      ],
      "source": "%load_ext autoreload\n%autoreload 2\nimport gym\nimport sys\nfrom deep_q_learning_keras_DCP import DQNAgent, get_true_Q_table, init_with_V, init_target_network_with_true_Q_table, train\nfrom visualization_and_metrics import visualisation_value_RM\nfrom q_learning import q_to_v\n",
      "metadata": {
        "pycharm": {
          "metadata": false,
          "name": "#%%\n",
          "is_executing": false
        }
      }
    },
    {
      "cell_type": "markdown",
      "source": "Environment",
      "metadata": {
        "pycharm": {
          "metadata": false
        }
      }
    },
    {
      "cell_type": "code",
      "execution_count": 28,
      "outputs": [],
      "source": "data_collection_points \u003d 4\nmicro_times \u003d 3\ncapacity \u003d 4\nactions \u003d tuple(k for k in range(50, 231, 50))\nalpha \u003d 0.4\nlamb \u003d 0.2\n\nenv \u003d gym.make(\u0027gym_RMDCP:RMDCP-v0\u0027, data_collection_points\u003ddata_collection_points, capacity\u003dcapacity,\n                   micro_times\u003dmicro_times, actions\u003dactions, alpha\u003dalpha, lamb\u003dlamb)\nstate_size \u003d len(env.observation_space.spaces)\naction_size \u003d env.action_space.n\n",
      "metadata": {
        "pycharm": {
          "metadata": false,
          "name": "#%% \n",
          "is_executing": false
        }
      }
    },
    {
      "cell_type": "markdown",
      "source": "Learning parameters ",
      "metadata": {
        "pycharm": {
          "metadata": false
        }
      }
    },
    {
      "cell_type": "code",
      "execution_count": 29,
      "outputs": [],
      "source": "batch_size \u003d 64\nnb_episodes \u003d 100\n",
      "metadata": {
        "pycharm": {
          "metadata": false,
          "name": "#%%\n",
          "is_executing": false
        }
      }
    },
    {
      "cell_type": "markdown",
      "source": "Creation of the agent",
      "metadata": {
        "pycharm": {
          "metadata": false
        }
      }
    },
    {
      "cell_type": "code",
      "execution_count": 30,
      "outputs": [],
      "source": "agent \u003d DQNAgent(state_size, action_size) \n",
      "metadata": {
        "pycharm": {
          "metadata": false,
          "name": "#%%\n",
          "is_executing": false
        }
      }
    },
    {
      "cell_type": "markdown",
      "source": "True Q-table - computed using dynamic programming",
      "metadata": {
        "pycharm": {
          "metadata": false
        }
      }
    },
    {
      "cell_type": "code",
      "execution_count": 31,
      "outputs": [],
      "source": "true_Q_table, true_policy \u003d get_true_Q_table(env, agent.gamma)\ntrue_V \u003d q_to_v(env, true_Q_table)\n",
      "metadata": {
        "pycharm": {
          "metadata": false,
          "name": "#%%\n",
          "is_executing": false
        }
      }
    },
    {
      "cell_type": "markdown",
      "source": "Visualization of the true values ",
      "metadata": {
        "pycharm": {
          "metadata": false
        }
      }
    },
    {
      "cell_type": "code",
      "execution_count": 32,
      "outputs": [
        {
          "data": {
            "text/plain": "\u003cFigure size 432x288 with 2 Axes\u003e",
            "image/png": "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\u003d\n"
          },
          "metadata": {
            "needs_background": "light"
          },
          "output_type": "display_data"
        }
      ],
      "source": "visualisation_value_RM(true_V, env.T, env.C)\n",
      "metadata": {
        "pycharm": {
          "metadata": false,
          "name": "#%%\n",
          "is_executing": false
        }
      }
    },
    {
      "cell_type": "markdown",
      "source": "We first use directly the true Q-table to train the network",
      "metadata": {
        "pycharm": {
          "metadata": false
        }
      }
    },
    {
      "cell_type": "code",
      "execution_count": 39,
      "outputs": [
        {
          "name": "stdout",
          "text": [
            "Average reward of the true policy over 10000 episodes  : 119.385\n"
          ],
          "output_type": "stream"
        },
        {
          "data": {
            "text/plain": "\u003cFigure size 432x288 with 1 Axes\u003e",
            "image/png": "[encoded data removed]"
          },
          "metadata": {
            "needs_background": "light"
          },
          "output_type": "display_data"
        }
      ],
      "source": "agent \u003d DQNAgent(state_size, action_size) \ninit_with_V(agent, env, batch_size)\n",
      "metadata": {
        "pycharm": {
          "metadata": false,
          "name": "#%%\n",
          "is_executing": false
        }
      }
    },
    {
      "cell_type": "markdown",
      "source": "We then use the true Q-table as the agent\u0027s target network. ",
      "metadata": {
        "pycharm": {
          "metadata": false,
          "name": "#%% md\n"
        }
      }
    },
    {
      "cell_type": "code",
      "execution_count": 24,
      "outputs": [
        {
          "name": "stdout",
          "text": [
            "Average reward of the true policy over 10000 episodes  : 121.62\n"
          ],
          "output_type": "stream"
        },
        {
          "data": {
            "text/plain": "\u003cFigure size 432x288 with 1 Axes\u003e",
            "image/png": "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\u003d\u003d\n"
          },
          "metadata": {
            "needs_background": "light"
          },
          "output_type": "display_data"
        }
      ],
      "source": "agent \u003d DQNAgent(state_size, action_size)\ninit_target_network_with_true_Q_table(agent, env, batch_size)\n",
      "metadata": {
        "pycharm": {
          "metadata": false,
          "name": "#%% \n",
          "is_executing": false
        }
      }
    },
    {
      "cell_type": "markdown",
      "source": "For each (state, action, reward, next state, done) of the minibatch we do:",
      "metadata": {
        "pycharm": {
          "metadata": false,
          "name": "#%% md\n"
        }
      }
    },
    {
      "cell_type": "code",
      "execution_count": 40,
      "outputs": [],
      "source": "# q_values \u003d self.target_model.predict(state)\n\n",
      "metadata": {
        "pycharm": {
          "metadata": false,
          "name": "#%%\n",
          "is_executing": false
        }
      }
    }
  ],
  "metadata": {
    "language_info": {
      "codemirror_mode": {
        "name": "ipython",
        "version": 2
      },
      "file_extension": ".py",
      "mimetype": "text/x-python",
      "name": "python",
      "nbconvert_exporter": "python",
      "pygments_lexer": "ipython2",
      "version": "2.7.6"
    },
    "kernelspec": {
      "name": "python3",
      "language": "python",
      "display_name": "Python 3"
    },
    "stem_cell": {
      "cell_type": "raw",
      "source": "",
      "metadata": {
        "pycharm": {
          "metadata": false
        }
      }
    }
  },
  "nbformat": 4,
  "nbformat_minor": 0
}