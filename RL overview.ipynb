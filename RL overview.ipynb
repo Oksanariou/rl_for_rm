{
  "cells": [
    {
      "cell_type": "markdown",
      "source": "## Markov Decision Process \nThe state transition and reward models $R$ and $T$ are known.\n\n### Value Iteration\nThe value function $U(s)$ represents the long-term reward that the agent is going to get if he starts in $s$ and follows the optimal policy.  \n\nThe value iteration approach keeps improving the value function at each iteration until it converges.\nAt each iteration and for each state s we update its estimated utility:  \n  $$U_{t+1}(s) \u003d \\max_{a}\\sum_{s\u0027}T(s, a, s\u0027)(R(s\u0027) + \\gamma U_t(s\u0027)) $$  \n",
      "metadata": {
        "pycharm": {
          "metadata": false,
          "name": "#%% md\n"
        }
      }
    },
    {
      "cell_type": "code",
      "execution_count": 4,
      "outputs": [],
      "source": "def value_iteration(env, gamma, max_iter, epsilon):\n    U \u003d np.zeros(env.nS)\n    for i in range(max_iter):\n        prev_U \u003d np.copy(U)\n        for s in range(env.nS):\n            list_sum \u003d np.zeros(env.nA)\n            for a in range(env.nA):\n                for p, s_prime, r, _ in env.P[s][a]:\n                    list_sum[a] +\u003d p*(r + gamma*prev_U[s_prime])\n            U[s] \u003d max(list_sum)\n        if (np.sum(np.fabs(prev_U - U)) \u003c\u003d epsilon):\n            break\n    return U     ",
      "metadata": {
        "pycharm": {
          "metadata": false,
          "name": "#%%\n",
          "is_executing": false
        }
      }
    },
    {
      "cell_type": "markdown",
      "source": "Once we have computed the true utility of each state $U(s)$ we can figure out the optimal policy $\\pi(s) \u003d \\underset{a}{\\operatorname{argmax}}\\sum_{s\u0027}T(s, a, s\u0027)U(s\u0027)$\n### Policy Iteration\nIf we compute the true utility of each state $U(s)$ we can figure out the optimal policy but we have much more information than what we need to figure out the optimal policy.  \nThe policy iteration approach re-defines the policy at each step and computes the value function associated to the current policy until the policy converges to the optimal policy.\nIt needs less iterations than VI to converge however each iteration is more computationally expensive.  \nGiven a policy $\\pi_t$ we compute the utility of each state:  \n  $$U_t(s) \u003d \\sum_{s\u0027}T(s, \\pi_t(s), s\u0027)(R(s\u0027) + \\gamma U_t(s\u0027)) $$",
      "metadata": {
        "pycharm": {
          "metadata": false
        }
      }
    },
    {
      "cell_type": "code",
      "execution_count": 5,
      "outputs": [],
      "source": "def evaluate_policy(env, policy, gamma, epsilon):\n    U \u003d np.zeros(env.nS)\n    while True:\n        prev_U \u003d np.copy(U)\n        for s in range(env.nS):\n            a \u003d policy[s]\n            U[s] \u003d sum([p * (r + gamma * prev_U[s_]) for p, s_, r, _ in env.P[s][a]])\n            #for p, s_prime, r, _ in env.P[s][a]:\n                #U[s] +\u003d p*(r + gamma*prev_U[s_prime])\n        if (np.sum(np.fabs(prev_U - U)) \u003c\u003d epsilon):\n            break\n    return U",
      "metadata": {
        "pycharm": {
          "metadata": false,
          "name": "#%%\n",
          "is_executing": false
        }
      }
    },
    {
      "cell_type": "markdown",
      "source": "We then improve the policy:  \n$$ \\pi_{t+1}(s) \u003d \\underset{a}{\\operatorname{argmax}}\\sum_{s\u0027}T(s, a, s\u0027)U_t(s\u0027)$$",
      "metadata": {
        "pycharm": {
          "metadata": false,
          "name": "#%% md\n"
        }
      }
    },
    {
      "cell_type": "code",
      "execution_count": 6,
      "outputs": [],
      "source": "def improve_policy(U):\n    policy \u003d np.zeros(env.nS)\n    for s in range(env.nS):\n        list_sum \u003d np.zeros(env.nA)\n        for a in range(env.nA):\n            for p, s_prime, r, _ in env.P[s][a]:\n                list_sum[a] +\u003d p*U[s_prime]\n        policy[s] \u003d np.argmax(list_sum)\n    return policy",
      "metadata": {
        "pycharm": {
          "metadata": false,
          "name": "#%%\n",
          "is_executing": false
        }
      }
    },
    {
      "cell_type": "markdown",
      "source": "\nTo get the final Policy Iteration algorithm we combine the two previous steps:",
      "metadata": {
        "pycharm": {
          "metadata": false,
          "name": "#%% md\n"
        }
      }
    },
    {
      "cell_type": "code",
      "execution_count": 7,
      "outputs": [],
      "source": "def policy_iteration(env, gamma, max_iter, epsilon):\n    policy \u003d np.random.choice(env.nA, env.nS)\n    for i in range(max_iter):\n        U \u003d evaluate_policy(env, policy, gamma, epsilon)\n        new_policy \u003d improve_policy(U)\n        if (np.all(policy \u003d\u003d new_policy)):\n            break\n        policy \u003d new_policy\n    return policy",
      "metadata": {
        "pycharm": {
          "metadata": false,
          "name": "#%%\n",
          "is_executing": false
        }
      }
    },
    {
      "cell_type": "markdown",
      "source": "\n## Reinforcement Learning\nThe state transition and reward models $T$ and $R$ are not known. The agent has access to the set of possible states and actions and has to learn through interactions with the environment.\n\n### Q-Learning\n\nThe Q-Learning algorithm does no longer have access to the models of the MDP that is to say the transition and reward functions.\nThe idea is now to evaluate the Bellman equation from data by using transitions (data : $ \u003cs, a, r, s\u0027\u003e$) to produce the solutions to the Q equations.\nAt each episode we are going to update the estimates of the Q function coming from the previous episode through a learning rate $\\alpha$. \n$$ Q(s, a) \u003d \\alpha(r + \\gamma \\max_{a\u0027}Q(s, a\u0027)) + (1 - \\alpha)Q(s, a)$$\n",
      "metadata": {
        "pycharm": {
          "metadata": false,
          "name": "#%% md\n"
        }
      }
    },
    {
      "cell_type": "code",
      "execution_count": 8,
      "outputs": [],
      "source": "def q_learning(env, alpha, gamma, nb_episodes, nb_steps, epsilon, epsilon_min, epsilon_decay):\n    \n    # Initialize the Q-table with zeros\n    Q \u003d np.zeros([env.observation_space.n, env.action_space.n])\n    \n    for i in range(nb_episodes):\n        s \u003d env.reset() #Initial observation\n        for j in range(nb_steps):\n            # The action associated to s is the one that provides the best Q-value with a proba 1-epsilon and is random with a proba epsilon\n            if random.random() \u003c 1 - epsilon:\n                a \u003d np.argmax(Q[s,:]) \n            else : \n                a \u003d np.random.randint(env.action_space.n)\n            # We get our transition \u003cs, a, r, s\u0027\u003e\n            s_prime, r, d, _ \u003d env.step(a)\n            # We update the Q-tqble with using new knowledge\n            Q[s, a] \u003d alpha*(r + gamma*np.max(Q[s_prime,:])) + (1 - alpha)*Q[s, a]\n            s \u003d s_prime\n            if d \u003d\u003d True:\n                break\n            if (epsilon \u003e epsilon_min):\n                epsilon *\u003d epsilon_decay\n    \n    return Q\n",
      "metadata": {
        "pycharm": {
          "metadata": false,
          "name": "#%% \n",
          "is_executing": false
        }
      }
    },
    {
      "cell_type": "markdown",
      "source": "### Deep Q-Learning\n\nThe problem of the previous Q-Learning algorithm is that it will not be able to work in big state space environments.\nSo rather than using a Q-table which returns a Q-value for a given state and a given action we can implement a neural network $N$ which takes a state and returns the Q-values of all the possible actions that could be taken in that state: $N(s) \u003d \\{Q(s, a_1), Q(s, a_2), ..., Q(s, a_n)\\}$.   \n  Just as Q-Learning we start with an initial state $s$ and action $a$. We look at the next state $s\u0027$ and the associated reward $r$ that the agent receives when he takes this action $a$ in the state $s$.\n  The transition $\u003cs, a, r, s\u0027\u003e$ is stored in the memory of the agent. When we start to have enough transitions in the memory we sample a batch of them and for each transition $\u003cs, a_j, r, s\u0027\u003e$ we do the following:  \n   - Compute a target $t$, which represents the \"best\" action that can be done when the agent is in $s$, that is to say the action that maximizes the expected long-term reward.  \n   $t \u003d r +\\gamma \\max_a Q(s\u0027,a)$ with $\\{Q(s\u0027, a_i)\\}_{i \u003d 1, ..., n} \u003d N(s\u0027)$\n   - Compute the output predicted by the network for $s$: $N(s) \u003d \\{Q(s, a_i)\\}_{i \u003d 1, ..., n}$ \n   - Replace $Q(s, a_j)$ with $t$ to get $N\u0027(s)$\n   - Train the network using $s$ as the input and $N\u0027(s)$ as the output.  \n\nWe then use $s\u0027$ as the current state $s$ and reiterate.",
      "metadata": {
        "pycharm": {
          "metadata": false
        }
      }
    },
    {
      "cell_type": "code",
      "execution_count": 1,
      "outputs": [],
      "source": "class DQNAgent:\n    def __init__(self, state_size, action_size):\n        self.state_size \u003d state_size\n        self.action_size \u003d action_size\n        self.memory \u003d deque(maxlen\u003d2000)\n        self.gamma \u003d 0.95    # discount rate\n        self.epsilon \u003d 1.0  # exploration rate\n        self.epsilon_min \u003d 0.01\n        self.epsilon_decay \u003d 0.995\n        self.learning_rate \u003d 0.001\n        self.model \u003d self._build_model()\n\n    def _build_model(self):\n        # Neural Net for Deep-Q learning Model\n        model \u003d Sequential()\n        model.add(Dense(24, input_dim\u003dself.state_size, activation\u003d\u0027relu\u0027))\n        model.add(Dense(24, activation\u003d\u0027relu\u0027))\n        model.add(Dense(self.action_size, activation\u003d\u0027linear\u0027))\n        model.compile(loss\u003d\u0027mse\u0027, optimizer\u003dAdam(lr\u003dself.learning_rate))\n        return model\n\n    def remember(self, state, action, reward, next_state, done):\n        self.memory.append((state, action, reward, next_state, done))\n\n    def act(self, state):\n        if np.random.rand() \u003c\u003d self.epsilon:\n            return random.randrange(self.action_size)\n        act_values \u003d self.model.predict(state)\n        return np.argmax(act_values[0])  # returns action\n\n    def replay(self, batch_size):\n        minibatch \u003d random.sample(self.memory, batch_size)\n        for state, action, reward, next_state, done in minibatch:\n            target \u003d reward\n            if not done:\n                target \u003d (reward + self.gamma * np.amax(self.model.predict(next_state)[0]))\n            target_f \u003d self.model.predict(state)\n            target_f[0][action] \u003d target\n            self.model.fit(state, target_f, epochs\u003d1, verbose\u003d0)\n        if self.epsilon \u003e self.epsilon_min:\n            self.epsilon *\u003d self.epsilon_decay",
      "metadata": {
        "pycharm": {
          "metadata": false,
          "name": "#%%\n",
          "is_executing": false
        }
      }
    },
    {
      "cell_type": "markdown",
      "source": "#### Target network\nTwo networks are created. The first one is used to get the Q-values while the second one includes all updates in the training.\nThe parameters of the target network $\\theta^-$ are copied every $\\tau$ updates from the online network and kept fixed on all other steps.\nThanks to this target network the Q-value targets are fixed temporarily so that we do not have a moving target to chase. For each transition $\u003cs, a_j, r, s\u0027\u003e$ we do the following:\n- Use the target network to compute a target $t \u003d r +\\gamma \\max_a Q(s\u0027,a; \\theta^-)$\n- Use the online network to predict the output for $s$: $\\{Q(s, a_1;\\theta), ..., Q(s, a_n;\\theta)\\}$\n- Replace $Q(s, a_j;\\theta)$ with $t$ to get the corrected output for $s$\n- Train the online network using $s$ as the input and the corrected output as the output\n\n### Double Deep Q-Learning\nThe goal of Double Q-Learning is to reduce overestimations made on action values by DQL by decomposing the max operation present in the target $t$ into action selection and action evaluation.  \nIndeed the target computed using DQL can be written as $t_{DQL} \u003d r+\\gamma\\max_aQ(s\u0027,a;\\theta)$ where $\\theta$ represent the parameters of the network.  \nIn the DDQL algorithm two sets of weights $\\theta$ and $\\theta\u0027$ are used, one to determine the greedy policy and the other one to determine its value. \nThe Double Q-learning target can thus be written $t_{DDQL} \u003d r + \\gamma Q(s\u0027, \\underset{a}{\\operatorname{argmax}}Q(s\u0027,a;\\theta) ;\\theta\u0027)$. \nSo we use one network to see which action $a$ maximizes the Q value associated to $s\u0027$ and another network to evaluate the value of that action when it is associated to $s\u0027$. For instance we could used the online network as $\\theta$ and the target network $\\theta^-$ as $\\theta\u0027$.\n\n### Dueling Network Architectures\nInstead of using conventional architectures for DQL the idea is to use a dueling network representing two separate estimators. \nWe separate the representation of state values $U(s)$ and action advantages $A(s, a)$ in order to allow the architecture to learn which states are valuable without having to learn the effect of each action for each state.  \nThe two streams of the dueling Q-network are then combined via an aggregating layer to produce an estimate of $Q(s,a)$.\n### Categorical Deep Q Learning\n\n## Gym environments\n\n### Frozen Lake - 16 states\n",
      "metadata": {
        "pycharm": {
          "metadata": false,
          "name": "#%% md\n"
        }
      }
    },
    {
      "cell_type": "code",
      "execution_count": 2,
      "outputs": [],
      "source": "import gym\nimport numpy as np\nimport random\n\nenv \u003d gym.make(\u0027FrozenLake-v0\u0027)",
      "metadata": {
        "pycharm": {
          "metadata": false,
          "name": "#%%\n",
          "is_executing": false
        }
      }
    },
    {
      "cell_type": "markdown",
      "source": "\n#### Description\nStates: There are 16 different states that represent the different parts of the lake. An agent wants to go from a starting point (S) to a goal (G) situated on the other side of the lake.\nSome states are traversable (F) but others are holes (H) that lead the agent to fall into the water.\nThe surface can be represented using the following grid:  \n  SFFF  \n  FHFH  \n  FFFH  \n  HFFG\n\nActions: There are 4 different actions that the agent can do when he is in a state: [LEFT, DOWN, RIGHT, UP].\n\nTransition model: If the agent wishes to execute an action, this action is executed correctly with a probability of 0.8 and causes the agent to move at a right angle with a probability of 0.2.\nThe 0.2 is distributed uniformly over the two possible right angles.\n\nRewards: +1 if the agent reaches the goal, -1 if the agent falls down a hole and -0.04 if the agent is on a frozen surface.\n\n#### Value Iteration",
      "metadata": {
        "pycharm": {
          "metadata": false
        }
      }
    },
    {
      "cell_type": "code",
      "execution_count": 11,
      "outputs": [
        {
          "name": "stdout",
          "text": [
            "[ 0.10923213 -0.0224833   0.15217449 -0.0224833   0.18551446  0.\n  0.258482    0.          0.39985603  0.68188442  0.64537105  0.\n  0.          0.81919453  0.94288425  0.        ]\n"
          ],
          "output_type": "stream"
        }
      ],
      "source": "env \u003d env.unwrapped\ngamma \u003d 0.95\nmax_iter \u003d 100000\nepsilon \u003d 1e-20\nprint(value_iteration(env, gamma, max_iter, epsilon))",
      "metadata": {
        "pycharm": {
          "metadata": false,
          "name": "#%%\n",
          "is_executing": false
        }
      }
    },
    {
      "cell_type": "markdown",
      "source": "To visualize the policy produced by this utility:",
      "metadata": {
        "pycharm": {
          "metadata": false,
          "name": "#%% md\n"
        }
      }
    },
    {
      "cell_type": "code",
      "execution_count": 12,
      "outputs": [
        {
          "name": "stdout",
          "text": [
            "DRDL\nDHDH\nRDDH\nHRDH\n"
          ],
          "output_type": "stream"
        }
      ],
      "source": "def visualize_policy(policy):\n    visu \u003d \u0027\u0027\n    for k in range(len(policy)):\n        if k \u003e 0 and k%4 \u003d\u003d 0:\n            visu +\u003d \u0027\\n\u0027\n        if k \u003d\u003d 5 or k \u003d\u003d 7 or k \u003d\u003d 11 or k \u003d\u003d 12 or k \u003d\u003d 15:\n            visu+\u003d\u0027H\u0027\n        elif int(policy[k]) \u003d\u003d 0:\n            visu +\u003d \u0027L\u0027\n        elif int(policy[k]) \u003d\u003d 1:\n            visu +\u003d \u0027D\u0027\n        elif int(policy[k]) \u003d\u003d 2:\n            visu +\u003d \u0027R\u0027\n        elif int(policy[k]) \u003d\u003d 3:\n            visu +\u003d \u0027U\u0027\n    print(visu)\n    \nU \u003d value_iteration(env, gamma, max_iter, epsilon)\npolicy \u003d improve_policy(U)\nvisualize_policy(policy)",
      "metadata": {
        "pycharm": {
          "metadata": false,
          "name": "#%%\n",
          "is_executing": false
        }
      }
    },
    {
      "cell_type": "markdown",
      "source": "#### Policy Iteration",
      "metadata": {
        "pycharm": {
          "metadata": false,
          "name": "#%% md\n"
        }
      }
    },
    {
      "cell_type": "code",
      "execution_count": 13,
      "outputs": [
        {
          "name": "stdout",
          "text": [
            "UDDD\nRHDH\nDRDH\nHRDH\n"
          ],
          "output_type": "stream"
        }
      ],
      "source": "policy \u003d policy_iteration(env, gamma, max_iter, epsilon)\nvisualize_policy(policy)",
      "metadata": {
        "pycharm": {
          "metadata": false,
          "name": "#%%\n",
          "is_executing": false
        }
      }
    },
    {
      "cell_type": "markdown",
      "source": "#### Q-Learning",
      "metadata": {
        "pycharm": {
          "metadata": false,
          "name": "#%% md\n"
        }
      }
    },
    {
      "cell_type": "code",
      "execution_count": 4,
      "outputs": [
        {
          "traceback": [
            "\u001b[1;31m---------------------------------------------------------------------------\u001b[0m",
            "\u001b[1;31mNameError\u001b[0m                                 Traceback (most recent call last)",
            "\u001b[1;32m\u003cipython-input-4-bd11a83ac345\u003e\u001b[0m in \u001b[0;36m\u003cmodule\u003e\u001b[1;34m\u001b[0m\n\u001b[0;32m      4\u001b[0m \u001b[0mepsilon_min\u001b[0m \u001b[1;33m\u003d\u001b[0m \u001b[1;36m0.01\u001b[0m\u001b[1;33m\u001b[0m\u001b[0m\n\u001b[0;32m      5\u001b[0m \u001b[0mepsilon_decay\u001b[0m \u001b[1;33m\u003d\u001b[0m \u001b[1;36m0.9999\u001b[0m\u001b[1;33m\u001b[0m\u001b[0m\n\u001b[1;32m----\u003e 6\u001b[1;33m \u001b[0mq_table\u001b[0m \u001b[1;33m\u003d\u001b[0m \u001b[0mq_learning\u001b[0m\u001b[1;33m(\u001b[0m\u001b[0menv\u001b[0m\u001b[1;33m,\u001b[0m \u001b[0malpha\u001b[0m\u001b[1;33m,\u001b[0m \u001b[0mgamma\u001b[0m\u001b[1;33m,\u001b[0m \u001b[0mnb_episodes\u001b[0m\u001b[1;33m,\u001b[0m \u001b[0mnb_steps\u001b[0m\u001b[1;33m,\u001b[0m \u001b[0mepsilon\u001b[0m\u001b[1;33m,\u001b[0m \u001b[0mepsilon_min\u001b[0m\u001b[1;33m,\u001b[0m \u001b[0mepsilon_decay\u001b[0m\u001b[1;33m)\u001b[0m\u001b[1;33m\u001b[0m\u001b[0m\n\u001b[0m\u001b[0;32m      7\u001b[0m \u001b[0mprint\u001b[0m\u001b[1;33m(\u001b[0m\u001b[0mq_table\u001b[0m\u001b[1;33m)\u001b[0m\u001b[1;33m\u001b[0m\u001b[0m\n\u001b[0;32m      8\u001b[0m \u001b[1;33m\u001b[0m\u001b[0m\n",
            "\u001b[1;31mNameError\u001b[0m: name \u0027q_learning\u0027 is not defined"
          ],
          "ename": "NameError",
          "evalue": "name \u0027q_learning\u0027 is not defined",
          "output_type": "error"
        }
      ],
      "source": "alpha, gamma \u003d 0.05, 0.99\nnb_episodes, nb_steps \u003d 100, 100\nepsilon \u003d 1\nepsilon_min \u003d 0.01\nepsilon_decay \u003d 0.9999\nq_table \u003d q_learning(env, alpha, gamma, nb_episodes, nb_steps, epsilon, epsilon_min, epsilon_decay)\nprint(q_table)\n",
      "metadata": {
        "pycharm": {
          "metadata": false,
          "name": "#%%\n",
          "is_executing": false
        }
      }
    },
    {
      "cell_type": "markdown",
      "source": "If we look at the action which maximizes the Q-value for each state we can visualize the policy produced by the Q-table:  ",
      "metadata": {
        "pycharm": {
          "metadata": false
        }
      }
    },
    {
      "cell_type": "code",
      "execution_count": 16,
      "outputs": [
        {
          "name": "stdout",
          "text": [
            "DLDL\nDHDH\nRDLH\nHRRH\n"
          ],
          "output_type": "stream"
        }
      ],
      "source": "def q_to_policy(Q):\n    policy \u003d []\n    for l in Q:\n        if l[0] \u003d\u003d l[1] \u003d\u003d l[2] \u003d\u003d l[3] \u003d\u003d 0.0:\n            policy.append(0)\n        else:\n            for k in range(0, len(l)):\n                if l[k] \u003d\u003d max(l):\n                    policy.append(k)\n                    break\n    return policy\n                    \npolicy \u003d q_to_policy(q_table)\nvisualize_policy(policy)",
      "metadata": {
        "pycharm": {
          "metadata": false,
          "name": "#%%\n",
          "is_executing": false
        }
      }
    },
    {
      "cell_type": "markdown",
      "source": "##### Different exploration strategies\nTo compare the effect of different exploration strategies on this non-deterministic Q-Learning algorithm we decided to compute $100$ policies for each strategy and to look at the mean of their average total rewards.  \n",
      "metadata": {
        "pycharm": {
          "metadata": false,
          "name": "#%% md\n"
        }
      }
    },
    {
      "cell_type": "code",
      "execution_count": 17,
      "outputs": [],
      "source": "def run_episode(env, policy):\n    \"\"\" Runs an episode and returns the total reward \"\"\"\n    obs \u003d env.reset()\n    total_reward \u003d 0\n    while True:\n        obs, reward, done, _ \u003d env.step(int(policy[obs]))\n        total_reward +\u003d reward\n        if done:\n            break\n    return total_reward\n\ndef evaluate_policy(env, policy, n_eval):\n    \"\"\" Runs n episodes and returns the average of the n total rewards\"\"\"\n    scores \u003d [run_episode(env, policy) for _ in range(n_eval)]\n    return np.mean(scores)\n\ndef running_q_learning_n_times(n, n_eval, env, alpha, gamma, nb_episodes, nb_steps, epsilon, epsilon_min, epsilon_decay):\n    scores \u003d []\n    for k in range(n):\n        print(k)\n        q_table \u003d q_learning(env, alpha, gamma, nb_episodes, nb_steps, epsilon, epsilon_min, epsilon_decay)\n        policy \u003d q_to_policy(q_table)\n        score \u003d evaluate_policy(env, policy, n_eval)\n        scores.append(score)\n    return np.mean(scores)",
      "metadata": {
        "pycharm": {
          "metadata": false,
          "name": "#%%\n",
          "is_executing": false
        }
      }
    },
    {
      "cell_type": "markdown",
      "source": "The following function is used to visualize the evolution of epsilon over time.",
      "metadata": {
        "pycharm": {
          "metadata": false
        }
      }
    },
    {
      "cell_type": "code",
      "execution_count": 18,
      "outputs": [],
      "source": "import matplotlib.pyplot as plt\ndef visualizing_epsilon_decay(nb_episodes, epsilon, epsilon_min, epsilon_decay):\n    X \u003d [k for k in range(nb_episodes)]\n    Y \u003d []\n    for k in range(nb_episodes):\n        if epsilon \u003e epsilon_min:\n            epsilon *\u003d epsilon_decay\n        Y.append(epsilon)\n    plt.plot(X, Y, \u0027b\u0027)\n    plt.title(\"Decaying epsilon over the number of episodes\")\n    plt.xlabel(\"Number of episodes\")\n    plt.ylabel(\"Epsilon\")\n    plt.grid()\n    return plt.show()",
      "metadata": {
        "pycharm": {
          "metadata": false,
          "name": "#%%\n",
          "is_executing": false
        }
      }
    },
    {
      "cell_type": "markdown",
      "source": "###### Epsilon decaying slowly over the number of episodes",
      "metadata": {
        "pycharm": {
          "metadata": false,
          "name": "#%% md\n"
        }
      }
    },
    {
      "cell_type": "code",
      "execution_count": 33,
      "outputs": [
        {
          "data": {
            "text/plain": "\u003cFigure size 432x288 with 1 Axes\u003e",
            "image/png": "[encoded data removed]"
          },
          "metadata": {
            "needs_background": "light"
          },
          "output_type": "display_data"
        },
        {
          "name": "stdout",
          "text": [
            "RURR\nDHUH\nURLH\nHRRH\n"
          ],
          "output_type": "stream"
        }
      ],
      "source": "epsilon \u003d 1\nepsilon_min \u003d 0.01\nepsilon_decay \u003d 0.9999\nvisualizing_epsilon_decay(nb_episodes, epsilon, epsilon_min, epsilon_decay)\nq_table \u003d q_learning(env, alpha, gamma, nb_episodes, nb_steps, epsilon, epsilon_min, epsilon_decay)\npolicy \u003d q_to_policy(q_table)\nvisualize_policy(policy)",
      "metadata": {
        "pycharm": {
          "metadata": false,
          "name": "#%%\n",
          "is_executing": false
        }
      }
    },
    {
      "cell_type": "markdown",
      "source": "Average total reward: 0.25\n###### Epsilon decaying quickly over the number of episodes\n",
      "metadata": {
        "pycharm": {
          "metadata": false,
          "name": "#%% md\n"
        }
      }
    },
    {
      "cell_type": "code",
      "execution_count": 35,
      "outputs": [
        {
          "data": {
            "text/plain": "\u003cFigure size 432x288 with 1 Axes\u003e",
            "image/png": "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\u003d\n"
          },
          "metadata": {
            "needs_background": "light"
          },
          "output_type": "display_data"
        },
        {
          "name": "stdout",
          "text": [
            "RRDU\nDHDH\nRDLH\nHRRH\n"
          ],
          "output_type": "stream"
        }
      ],
      "source": "epsilon \u003d 1\nepsilon_min \u003d 0.01\nepsilon_decay \u003d 0.97\nvisualizing_epsilon_decay(nb_episodes, epsilon, epsilon_min, epsilon_decay)\nq_table \u003d q_learning(env, alpha, gamma, nb_episodes, nb_steps, epsilon, epsilon_min, epsilon_decay)\npolicy \u003d q_to_policy(q_table)\nvisualize_policy(policy)",
      "metadata": {
        "pycharm": {
          "metadata": false,
          "name": "#%%\n",
          "is_executing": false
        }
      }
    },
    {
      "cell_type": "markdown",
      "source": "Average total reward: 0.23\nOverall we get a slightly better average total reward when we decay epsilon slowly than when we do it quickly, which shows that for this environment it is important to keep exploring and not focus more on exploitation than exploration too quickly.\n#### Deep Q-Learning\n",
      "metadata": {
        "pycharm": {
          "metadata": false
        }
      }
    },
    {
      "cell_type": "code",
      "execution_count": 5,
      "outputs": [
        {
          "name": "stderr",
          "text": [
            "Using TensorFlow backend.\n"
          ],
          "output_type": "stream"
        },
        {
          "name": "stdout",
          "text": [
            "WARNING:tensorflow:From c:\\users\\oriou\\appdata\\local\\programs\\python\\python36\\lib\\site-packages\\tensorflow\\python\\framework\\op_def_library.py:263: colocate_with (from tensorflow.python.framework.ops) is deprecated and will be removed in a future version.\nInstructions for updating:\nColocations handled automatically by placer.\n",
            "WARNING:tensorflow:From c:\\users\\oriou\\appdata\\local\\programs\\python\\python36\\lib\\site-packages\\tensorflow\\python\\ops\\math_ops.py:3066: to_int32 (from tensorflow.python.ops.math_ops) is deprecated and will be removed in a future version.\nInstructions for updating:\nUse tf.cast instead.\n"
          ],
          "output_type": "stream"
        }
      ],
      "source": "from collections import deque\nfrom keras.models import Sequential\nfrom keras.layers import Dense\nfrom keras.optimizers import Adam\n\nstate_size \u003d 1\naction_size \u003d env.action_space.n\nagent \u003d DQNAgent(state_size, action_size)\ndone \u003d False\nbatch_size \u003d 32\n\nfor e in range(nb_episodes):\n    state \u003d env.reset()\n    state \u003d np.reshape(state, [1, state_size])\n    for time in range(nb_steps):\n        action \u003d agent.act(state)\n        next_state, reward, done, _ \u003d env.step(action)\n        next_state \u003d np.reshape(next_state, [1, state_size])\n        agent.remember(state, action, reward, next_state, done)\n        state \u003d next_state\n        if done:\n            break\n        if len(agent.memory) \u003e batch_size:\n            agent.replay(batch_size)\n                \ntrained_network \u003d agent.model",
      "metadata": {
        "pycharm": {
          "metadata": false,
          "name": "#%% \n",
          "is_executing": false
        }
      }
    },
    {
      "cell_type": "markdown",
      "source": "If we use the trained network to predict the Q-values of all the possible actions for each state we get the following Q-table:",
      "metadata": {
        "pycharm": {
          "metadata": false,
          "name": "#%% md\n"
        }
      }
    },
    {
      "cell_type": "code",
      "execution_count": 29,
      "outputs": [
        {
          "name": "stdout",
          "text": [
            "[[-0.36276409 -0.36358738 -0.34956151 -0.36803347]\n [-0.42438653 -0.56051075 -0.45745918 -0.42576566]\n [-0.38929811 -0.4887521  -0.41695005 -0.39924663]\n [-0.39063635 -0.50787544 -0.43388253 -0.42860413]\n [-0.32098693 -0.36689979 -0.37309313 -0.40078509]\n [-0.35560364 -0.44155252 -0.33484015 -0.41989574]\n [-0.43818772 -0.57127154 -0.23598194 -0.40575978]\n [-0.46052262 -0.59900045 -0.14967215 -0.38327429]\n [-0.39900315 -0.4420557  -0.10320634 -0.3309949 ]\n [-0.27884251 -0.10636949 -0.11077434 -0.23671144]\n [-0.15868193  0.22931662 -0.11834252 -0.14242798]\n [-0.04899368  0.48229748  0.0397675  -0.00902036]\n [ 0.02124009  0.60702127  0.3495158   0.09754792]\n [ 0.09147385  0.73174506  0.65926361  0.20411602]\n [ 0.16170761  0.85646874  0.96901166  0.31068417]\n [ 0.23194143  0.98119253  1.27875996  0.41725245]]\n"
          ],
          "output_type": "stream"
        }
      ],
      "source": "def compute_q_table(env, network):\n    q_table \u003d np.zeros([env.observation_space.n, env.action_space.n])\n    for s in range(env.observation_space.n):\n        state \u003d np.zeros(1, int)\n        state[0] \u003d s\n        state \u003d np.reshape(state, [1, state_size])\n        q_table[s] \u003d list(network.predict(state)[0])\n    return q_table\n\nprint(compute_q_table(env, trained_network))",
      "metadata": {
        "pycharm": {
          "metadata": false,
          "name": "#%%\n",
          "is_executing": false
        }
      }
    },
    {
      "cell_type": "markdown",
      "source": "The policy produced by this Q-table is the following one:",
      "metadata": {
        "pycharm": {
          "metadata": false,
          "name": "#%% md\n"
        }
      }
    },
    {
      "cell_type": "code",
      "execution_count": 30,
      "outputs": [
        {
          "name": "stdout",
          "text": [
            "RLLL\nLHRH\nRDDH\nHDRH\n"
          ],
          "output_type": "stream"
        }
      ],
      "source": "q_table \u003d compute_q_table(env, trained_network)\npolicy \u003d q_to_policy(q_table)\nvisualize_policy(policy)",
      "metadata": {
        "pycharm": {
          "metadata": false,
          "name": "#%%\n",
          "is_executing": false
        }
      }
    },
    {
      "cell_type": "markdown",
      "source": "",
      "metadata": {
        "pycharm": {
          "metadata": false,
          "name": "#%% md"
        }
      }
    }
  ],
  "metadata": {
    "language_info": {
      "codemirror_mode": {
        "name": "ipython",
        "version": 2
      },
      "file_extension": ".py",
      "mimetype": "text/x-python",
      "name": "python",
      "nbconvert_exporter": "python",
      "pygments_lexer": "ipython2",
      "version": "2.7.6"
    },
    "kernelspec": {
      "name": "python3",
      "language": "python",
      "display_name": "Python 3"
    },
    "stem_cell": {
      "cell_type": "raw",
      "source": "",
      "metadata": {
        "pycharm": {
          "metadata": false
        }
      }
    }
  },
  "nbformat": 4,
  "nbformat_minor": 0
}