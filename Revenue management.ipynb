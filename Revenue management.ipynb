{
  "cells": [
    {
      "cell_type": "markdown",
      "metadata": {
        "collapsed": true,
        "pycharm": {
          "name": "#%% md\n"
        }
      },
      "source": "## Revenue Management\n### Value Iteration\n#### Model of the demand\n$$D(t, p)\u003d D_ne^{-\\alpha(t)(\\frac{p}{p_n}-1)}$$  \n  With:  \n  $p_1 \u003e ... \u003e p_n$ the prices  \n  $\\alpha(t)$ the price sensitivity  \n  $D(t, p)$ the number of tickets sold\n#### State\n$s \u003d (t, x)$  \n  With:  \n    $t$ : time to departure  \n    $x$ : remaining capacity\n#### Bellman optimality equation\n $$v_*(t, x) \u003d \\max_{p\\in\\{p_1, ..., p_n\\}}\\{\\lambda(t)e^{-\\alpha(t)(\\frac{p}{p_n}-1)}(p + v_*(t-1, x-1))\\}$$\n    "
    }
  ],
  "metadata": {
    "language_info": {
      "codemirror_mode": {
        "name": "ipython",
        "version": 2
      },
      "file_extension": ".py",
      "mimetype": "text/x-python",
      "name": "python",
      "nbconvert_exporter": "python",
      "pygments_lexer": "ipython2",
      "version": "2.7.6"
    },
    "kernelspec": {
      "name": "python3",
      "language": "python",
      "display_name": "Python 3"
    }
  },
  "nbformat": 4,
  "nbformat_minor": 0
}