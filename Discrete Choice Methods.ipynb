{
  "cells": [
    {
      "cell_type": "markdown",
      "metadata": {
        "collapsed": true,
        "pycharm": {
          "name": "#%% md\n"
        }
      },
      "source": "## Introduction\n\nAn agent faces a choice among a set of options.\nThe outcome of the decision is denoted $y$ and is discrete.\nSome factors determining the agent\u0027s choice are observed by the researcher and some are not. \nThe observed factors are denoted $x$ and the unobserved ones $\\epsilon$.\nThe function $h$ such that $y\u003dh(x, \\epsilon)$ is caled the behavioral process.  \n\nThe probability that the agent chooses an outcome is the probability that the unobserved factors are such that the behavioral process results in that outcome.\n$P(y|x) \u003d P(\\epsilon \\mbox{ s.t. } h(x, \\epsilon) \u003d y)$.  \nThis probability can be expressed as the integral $\\int 1_{h(x, \\epsilon)\u003dy}f(\\epsilon)d\\epsilon$ where $f(\\epsilon)$ is the density of the unobserved terms.  \nThere are three posibilities to evaluate that integral:\n- Complete Closed-Form Expression: Solve the integral analytically\n- Complete Simulation: As integration over a density is a form of averaging\n- Partial Simulation, Partial Closed Form  \n\nWe will take a look at behavioral models that have been proposed to describe the choice process.\n\n## Properties of Discrete Choice Models\n\n### The Choice Set\nDecision makers have to choose among alternatives and the set of alternatives is called the choice set.\n- The alternatives must be mutually exclusive from the decision maker\u0027s perpective\n- The decision maker necessarily chooses one of the alternatives\n- The number of alternatives must be finite\n\n### Derivation of Choice Probabilities\nWe assume that the decision maker will maximize its utility.  \nRandom Utility Models: A decision maker $n$ faces a choice among $J$ alternatives. $U_{nj} \u003d $ Utility that $n$ obtains from alternative $j$.  \nBehavioral model: choose alternative $i$ if and only if $U_{ni} \u003e U_{nj} \\forall j \\neq i $  \nThe researcher does not observe the decision maker\u0027s utility. The researcher observes some attributes of the alternatives as faced by the decision maker denoted $x_{nj}$ and some attributes of the decision maker $s_n$.  \nRepresentative utility: $V_{nj} \u003d V(x_{nj}, s_n)$.  \nUtility is decomposed as $U_{nj} \u003d V_{nj} + \\epsilon_{nj}$ where the researcher does not know $\\epsilon_{nj}$ and thus treats these terms as random.\nJoint density of the random vector $\\epsilon_n\u0027 \u003d \\{\\epsilon_{n1}, ..., \\epsilon_{nJ}\\} \u003d f(\\epsilon_n)$  \nProbability that $n$ chooses alternative $i$: \n$$P_{ni} \u003d P(U_{ni}\u003eU_{nj}, \\forall j\\neq i) $$\n$$P_{ni} \u003d P(\\epsilon_{nj} - \\epsilon_{ni} \u003c V_{ni} - V_{nj}, \\forall j\\neq i) $$ \n$$P_{ni} \u003d \\int 1_{\\{\\epsilon_{nj} - \\epsilon_{ni} \u003c V_{ni} - V_{nj}, \\forall j\\neq i\\}}f(\\epsilon_n)d\\epsilon_n $$ where $f(\\epsilon_n)$ represents the density of the unobserved portion of utility.  \nLogit and nested logit have closed-form expressions for this integral.\n\n### Specific Models\nDifferent choice models are derived under different specifications of the density of unobserved factors $f(\\epsilon_n)$.  \nLogit assumes that the unobserved factors are uncorrelated over alternatives and have the same variance for all alternatives.\nGEV places the alternatives into several groups called nests with unobserved factors having the same correlation for all alternatives within a nest and no correlation for alternatives in different nests."
    }
  ],
  "metadata": {
    "language_info": {
      "codemirror_mode": {
        "name": "ipython",
        "version": 2
      },
      "file_extension": ".py",
      "mimetype": "text/x-python",
      "name": "python",
      "nbconvert_exporter": "python",
      "pygments_lexer": "ipython2",
      "version": "2.7.6"
    },
    "kernelspec": {
      "name": "python3",
      "language": "python",
      "display_name": "Python 3"
    },
    "stem_cell": {
      "cell_type": "raw",
      "source": "",
      "metadata": {
        "pycharm": {
          "metadata": false
        }
      }
    }
  },
  "nbformat": 4,
  "nbformat_minor": 0
}