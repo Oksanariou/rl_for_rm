{
  "cells": [
    {
      "cell_type": "markdown",
      "metadata": {
        "collapsed": true,
        "pycharm": {
          "name": "#%% md\n"
        }
      },
      "source": "To validate some different RL algorithms the original FrozenLake-v0 environment is used. FrozenLake-v0 is considered solved when the agent obtains an average reward of at least $0.78$ over $100$ consecutive episodes.\n\n### Parameters"
    },
    {
      "cell_type": "code",
      "execution_count": 11,
      "outputs": [],
      "source": "import numpy as np\nimport gym\nimport random\n\n%matplotlib inline\n\n%run ../visualization_and_metrics.py\n\nenv \u003d gym.make(\u0027FrozenLake-v0\u0027)\nenv \u003d env.unwrapped",
      "metadata": {
        "pycharm": {
          "metadata": false,
          "name": "#%% \n",
          "is_executing": false
        }
      }
    },
    {
      "cell_type": "markdown",
      "source": "### Value Iteration",
      "metadata": {
        "pycharm": {
          "metadata": false,
          "name": "#%% md\n"
        }
      }
    },
    {
      "cell_type": "code",
      "execution_count": 12,
      "outputs": [
        {
          "name": "stdout",
          "text": [
            "Converged at 1372\n[0.82352941 0.82352941 0.82352941 0.82352941 0.82352941 0.\n 0.52941176 0.         0.82352941 0.82352941 0.76470588 0.\n 0.         0.88235294 0.94117647 0.        ]\nLUUU\nLHLH\nUDLH\nHRDH\nAverage reward over 100 episodes : 0.85\n"
          ],
          "output_type": "stream"
        }
      ],
      "source": "%run ../value_iteration.py\n\ngamma \u003d 1\n\nv \u003d value_iteration(env, gamma, 100000, 1e-20)\nprint(v)\npolicy \u003d extract_policy(env, v, gamma)\nvisualize_policy_FL(policy)\nprint(\"Average reward over 100 episodes : \"+str(average_n_episodes(env, policy, 100)))",
      "metadata": {
        "pycharm": {
          "metadata": false,
          "name": "#%%\n",
          "is_executing": false
        }
      }
    },
    {
      "cell_type": "markdown",
      "source": "### Policy Iteration",
      "metadata": {
        "pycharm": {
          "metadata": false,
          "name": "#%% md\n"
        }
      }
    },
    {
      "cell_type": "code",
      "execution_count": 13,
      "outputs": [
        {
          "name": "stdout",
          "text": [
            "Converged at 3\nLUUU\nLHLH\nUDLH\nHRDH\nAverage reward over 100 episodes : 0.85\n"
          ],
          "output_type": "stream"
        }
      ],
      "source": "%run ../policy_iteration.py\n\ngamma \u003d 1\n\npolicy \u003d policy_iteration(env, gamma, 100000, 1e-20)\nvisualize_policy_FL(policy)\nprint(\"Average reward over 100 episodes : \"+str(average_n_episodes(env, policy, 100)))",
      "metadata": {
        "pycharm": {
          "metadata": false,
          "name": "#%%\n",
          "is_executing": false
        }
      }
    },
    {
      "cell_type": "markdown",
      "source": "### Q-Learning",
      "metadata": {
        "pycharm": {
          "metadata": false,
          "name": "#%% md\n"
        }
      }
    },
    {
      "cell_type": "code",
      "execution_count": 30,
      "outputs": [
        {
          "name": "stdout",
          "text": [
            "[0.79923988 0.68372401 0.5817225  0.26749147 0.79919671 0.\n 0.4251976  0.         0.80454931 0.8270055  0.80687686 0.\n 0.         0.88190075 0.93849144 0.        ]\n",
            "LULU\nLHLH\nUDLH\nHRDH\n"
          ],
          "output_type": "stream"
        },
        {
          "data": {
            "text/plain": "\u003cFigure size 432x288 with 1 Axes\u003e",
            "image/png": "[encoded data removed]"
          },
          "metadata": {
            "needs_background": "light"
          },
          "output_type": "display_data"
        },
        {
          "data": {
            "text/plain": "[\u003cmatplotlib.lines.Line2D at 0x27e8f1a2f60\u003e]"
          },
          "metadata": {},
          "output_type": "execute_result",
          "execution_count": 30
        },
        {
          "data": {
            "text/plain": "\u003cFigure size 432x288 with 1 Axes\u003e",
            "image/png": "[encoded data removed]"
          },
          "metadata": {
            "needs_background": "light"
          },
          "output_type": "display_data"
        }
      ],
      "source": "%run ../q_learning.py\n\nalpha, gamma \u003d 0.05, 1\nnb_episodes, nb_steps \u003d 10000, 100\nepsilon, epsilon_min, epsilon_decay \u003d 1, 0.01, 0.9995\n\nq_table, rList \u003d q_learning(env, alpha, gamma, nb_episodes, nb_steps, epsilon, epsilon_min, epsilon_decay)\nv \u003d q_to_v(env, q_table)\nprint(v)\npolicy \u003d extract_policy(env, v, gamma)\nvisualizing_epsilon_decay(nb_episodes, epsilon, epsilon_min, epsilon_decay)\nvisualize_policy_FL(policy)\n#print(\"Average reward over 100 episodes : \"+str(average_n_episodes(env, policy, 100)))\nplt.plot(rList)",
      "metadata": {
        "pycharm": {
          "metadata": false,
          "name": "#%%\n",
          "is_executing": false
        }
      }
    },
    {
      "cell_type": "markdown",
      "source": "### Deep-Q-Learning",
      "metadata": {
        "pycharm": {
          "metadata": false
        }
      }
    },
    {
      "cell_type": "code",
      "execution_count": null,
      "outputs": [],
      "source": "%run ../deep_q_learning_tf.py\n\nalpha \u003d 0.05, 1\nnb_episodes, nb_steps \u003d 4000, 100\nepsilon, epsilon_min, epsilon_decay \u003d 1, 0.01, 0.9995\n\nvisualizing_epsilon_decay(nb_episodes, epsilon, epsilon_min, epsilon_decay)\nq_table, rList \u003d dql(env, gamma, nb_episodes, nb_steps, epsilon, epsilon_min, epsilon_decay)\npolicy \u003d q_to_policy_FL(q_table)\nvisualize_policy_FL(policy)\nprint(\"Average reward over 100 episodes : \"+str(average_n_episodes(env, policy, 100)))\nplt.plot(rList)",
      "metadata": {
        "pycharm": {
          "metadata": false,
          "name": "#%%\n",
          "is_executing": true
        }
      }
    },
    {
      "cell_type": "markdown",
      "source": "",
      "metadata": {
        "pycharm": {
          "metadata": false,
          "name": "#%% md"
        }
      }
    }
  ],
  "metadata": {
    "language_info": {
      "codemirror_mode": {
        "name": "ipython",
        "version": 2
      },
      "file_extension": ".py",
      "mimetype": "text/x-python",
      "name": "python",
      "nbconvert_exporter": "python",
      "pygments_lexer": "ipython2",
      "version": "2.7.6"
    },
    "kernelspec": {
      "name": "python3",
      "language": "python",
      "display_name": "Python 3"
    }
  },
  "nbformat": 4,
  "nbformat_minor": 0
}