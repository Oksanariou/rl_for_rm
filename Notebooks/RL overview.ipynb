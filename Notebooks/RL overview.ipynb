{
  "cells": [
    {
      "cell_type": "markdown",
      "source": "## Markov Decision Process \nThe state transition and reward models $R$ and $T$ are known.\n\n### Value Iteration\nThe value function $U(s)$ represents the long-term reward that the agent is going to get if he starts in $s$ and follows the optimal policy.  \n\nThe value iteration approach keeps improving the value function at each iteration until it converges.\nAt each iteration and for each state s we update its estimated utility:  \n  $$U_{t+1}(s) \u003d \\max_{a}\\sum_{s\u0027}T(s, a, s\u0027)(R(s\u0027) + \\gamma U_t(s\u0027)) $$  \n",
      "metadata": {
        "pycharm": {
          "metadata": false,
          "name": "#%% md\n"
        }
      }
    },
    {
      "cell_type": "code",
      "execution_count": 7,
      "outputs": [],
      "source": "def value_iteration(env, gamma, max_iter, epsilon):\n    U \u003d np.zeros(env.nS)\n    for i in range(max_iter):\n        prev_U \u003d np.copy(U)\n        for s in range(env.nS):\n            list_sum \u003d np.zeros(env.nA)\n            for a in range(env.nA):\n                for p, s_prime, r, _ in env.P[s][a]:\n                    list_sum[a] +\u003d p*(r + gamma*prev_U[s_prime])\n            U[s] \u003d max(list_sum)\n        if (np.sum(np.fabs(prev_U - U)) \u003c\u003d epsilon):\n            break\n    return U     ",
      "metadata": {
        "pycharm": {
          "metadata": false,
          "name": "#%%\n",
          "is_executing": false
        }
      }
    },
    {
      "cell_type": "markdown",
      "source": "Once we have computed the true utility of each state $U(s)$ we can figure out the optimal policy $\\pi(s) \u003d \\underset{a}{\\operatorname{argmax}}U(s) \u003d  \\underset{a}{\\operatorname{argmax}}\\sum_{s\u0027}T(s, a, s\u0027)(R(s\u0027)+\\gamma U(s\u0027))$\n### Policy Iteration\nIf we compute the true utility of each state $U(s)$ we can figure out the optimal policy but we have much more information than what we need to figure out the optimal policy.  \nThe policy iteration approach re-defines the policy at each step and computes the value function associated to the current policy until the policy converges to the optimal policy.\nIt needs less iterations than VI to converge however each iteration is more computationally expensive.  \nGiven a policy $\\pi_t$ we compute the utility of each state:  \n  $$U_t(s) \u003d \\sum_{s\u0027}T(s, \\pi_t(s), s\u0027)(R(s\u0027) + \\gamma U_t(s\u0027)) $$",
      "metadata": {
        "pycharm": {
          "metadata": false
        }
      }
    },
    {
      "cell_type": "code",
      "execution_count": 8,
      "outputs": [],
      "source": "def evaluate_policy(env, policy, gamma, epsilon):\n    U \u003d np.zeros(env.nS)\n    while True:\n        prev_U \u003d np.copy(U)\n        for s in range(env.nS):\n            a \u003d policy[s]\n            U[s] \u003d sum([p * (r + gamma * prev_U[s_]) for p, s_, r, _ in env.P[s][a]])\n            #for p, s_prime, r, _ in env.P[s][a]:\n                #U[s] +\u003d p*(r + gamma*prev_U[s_prime])\n        if (np.sum(np.fabs(prev_U - U)) \u003c\u003d epsilon):\n            break\n    return U",
      "metadata": {
        "pycharm": {
          "metadata": false,
          "name": "#%%\n",
          "is_executing": false
        }
      }
    },
    {
      "cell_type": "markdown",
      "source": "We then improve the policy:  \n$$ \\pi_{t+1}(s) \u003d \\underset{a}{\\operatorname{argmax}}\\sum_{s\u0027}T(s, a, s\u0027)(R(s\u0027) + \\gamma U_t(s\u0027))$$",
      "metadata": {
        "pycharm": {
          "metadata": false,
          "name": "#%% md\n"
        }
      }
    },
    {
      "cell_type": "code",
      "execution_count": 9,
      "outputs": [],
      "source": "def improve_policy(U, gamma):\n    policy \u003d np.zeros(env.nS)\n    for s in range(env.nS):\n        list_sum \u003d np.zeros(env.nA)\n        for a in range(env.nA):\n            for p, s_prime, r, _ in env.P[s][a]:\n                list_sum[a] +\u003d p*(r+gamma*U[s_prime])\n        policy[s] \u003d np.argmax(list_sum)\n    return policy",
      "metadata": {
        "pycharm": {
          "metadata": false,
          "name": "#%%\n",
          "is_executing": false
        }
      }
    },
    {
      "cell_type": "markdown",
      "source": "\nTo get the final Policy Iteration algorithm we combine the two previous steps:",
      "metadata": {
        "pycharm": {
          "metadata": false,
          "name": "#%% md\n"
        }
      }
    },
    {
      "cell_type": "code",
      "execution_count": 10,
      "outputs": [],
      "source": "def policy_iteration(env, gamma, max_iter, epsilon):\n    policy \u003d np.random.choice(env.nA, env.nS)\n    for i in range(max_iter):\n        U \u003d evaluate_policy(env, policy, gamma, epsilon)\n        new_policy \u003d improve_policy(U, gamma)\n        if (np.all(policy \u003d\u003d new_policy)):\n            break\n        policy \u003d new_policy\n    return policy",
      "metadata": {
        "pycharm": {
          "metadata": false,
          "name": "#%%\n",
          "is_executing": false
        }
      }
    },
    {
      "cell_type": "markdown",
      "source": "\n## Reinforcement Learning - Value Optimization\nThe state transition and reward models $T$ and $R$ are not known. The agent has access to the set of possible states and actions and has to learn through interactions with the environment.\n\n### Q-Learning\n\nThe Q-Learning algorithm does no longer have access to the models of the MDP that is to say the transition and reward functions.\nThe idea is now to evaluate the Bellman equation from data by using transitions (data : $ \u003cs, a, r, s\u0027\u003e$) to produce the solutions to the Q equations.\nAt each episode we are going to update the estimates of the Q function coming from the previous episode through a learning rate $\\alpha$. \n$$ Q(s, a) \u003d \\alpha(r + \\gamma \\max_{a\u0027}Q(s\u0027, a\u0027)) + (1 - \\alpha)Q(s, a)$$\n",
      "metadata": {
        "pycharm": {
          "metadata": false,
          "name": "#%% md\n"
        }
      }
    },
    {
      "cell_type": "code",
      "execution_count": 16,
      "outputs": [],
      "source": "def q_learning(env, alpha, gamma, nb_episodes, nb_steps, epsilon, epsilon_min, epsilon_decay):\n    \n    # Initialize the Q-table with zeros\n    Q \u003d np.zeros([env.observation_space.n, env.action_space.n])\n    \n    for i in range(nb_episodes):\n        s \u003d env.reset() #Initial observation\n        for j in range(nb_steps):\n            # The action associated to s is the one that provides the best Q-value with a proba 1-epsilon and is random with a proba epsilon\n            if random.random() \u003c 1 - epsilon:\n                a \u003d np.argmax(Q[s,:]) \n            else : \n                a \u003d np.random.randint(env.action_space.n)\n            # We get our transition \u003cs, a, r, s\u0027\u003e\n            s_prime, r, d, _ \u003d env.step(a)\n            # We update the Q-tqble with using new knowledge\n            Q[s, a] \u003d alpha*(r + gamma*np.max(Q[s_prime,:])) + (1 - alpha)*Q[s, a]\n            s \u003d s_prime\n            if d \u003d\u003d True:\n                break\n            if (epsilon \u003e epsilon_min):\n                epsilon *\u003d epsilon_decay\n    \n    return Q\n",
      "metadata": {
        "pycharm": {
          "metadata": false,
          "name": "#%% \n",
          "is_executing": false
        }
      }
    },
    {
      "cell_type": "markdown",
      "source": "### Deep Q-Learning\n\nThe problem of the previous Q-Learning algorithm is that it will not be able to work in big state space environments.\nSo rather than using a Q-table which returns a Q-value for a given state and a given action we can implement a neural network $N$ which takes a state and returns the Q-values of all the possible actions that could be taken in that state: $N(s) \u003d \\{Q(s, a_1), Q(s, a_2), ..., Q(s, a_n)\\}$.   \n  Just as Q-Learning we start with an initial state $s$ and action $a$. We look at the next state $s\u0027$ and the associated reward $r$ that the agent receives when he takes this action $a$ in the state $s$.\n  The transition $\u003cs, a, r, s\u0027\u003e$ is stored in the memory of the agent. When we start to have enough transitions in the memory we sample a batch of them and for each transition $\u003cs, a_j, r, s\u0027\u003e$ we do the following:  \n   - Compute a target $t$, which represents the \"best\" action that can be done when the agent is in $s$, that is to say the action that maximizes the expected long-term reward.  \n   $t \u003d r +\\gamma \\max_a Q(s\u0027,a)$ with $\\{Q(s\u0027, a_i)\\}_{i \u003d 1, ..., n} \u003d N(s\u0027)$\n   - Compute the output predicted by the network for $s$: $N(s) \u003d \\{Q(s, a_i)\\}_{i \u003d 1, ..., n}$ \n   - Replace $Q(s, a_j)$ with $t$ to get $N\u0027(s)$\n   - Train the network using $s$ as the input and $N\u0027(s)$ as the output.  \n\nWe then use $s\u0027$ as the current state $s$ and reiterate.",
      "metadata": {
        "pycharm": {
          "metadata": false
        }
      }
    },
    {
      "cell_type": "code",
      "execution_count": 43,
      "outputs": [],
      "source": "class DQNAgent:\n    def __init__(self, state_size, action_size):\n        self.state_size \u003d state_size\n        self.action_size \u003d action_size\n        self.memory \u003d deque(maxlen\u003d2000)\n        self.gamma \u003d 0.95    # discount rate\n        self.epsilon \u003d 1.0  # exploration rate\n        self.epsilon_min \u003d 0.01\n        self.epsilon_decay \u003d 0.995\n        self.learning_rate \u003d 0.001\n        self.model \u003d self._build_model()\n\n    def _build_model(self):\n        # Neural Net for Deep-Q learning Model\n        model \u003d Sequential()\n        model.add(Dense(24, input_dim\u003dself.state_size, activation\u003d\u0027relu\u0027))\n        model.add(Dense(24, activation\u003d\u0027relu\u0027))\n        model.add(Dense(self.action_size, activation\u003d\u0027linear\u0027))\n        model.compile(loss\u003d\u0027mse\u0027, optimizer\u003dAdam(lr\u003dself.learning_rate))\n        return model\n\n    def remember(self, state, action, reward, next_state, done):\n        self.memory.append((state, action, reward, next_state, done))\n\n    def act(self, state):\n        if np.random.rand() \u003c\u003d self.epsilon:\n            return random.randrange(self.action_size)\n        act_values \u003d self.model.predict(state)\n        return np.argmax(act_values[0])  # returns action\n\n    def replay(self, batch_size):\n        minibatch \u003d random.sample(self.memory, batch_size)\n        for state, action, reward, next_state, done in minibatch:\n            target \u003d reward\n            if not done:\n                target \u003d (reward + self.gamma * np.amax(self.model.predict(next_state)[0]))\n            target_f \u003d self.model.predict(state)\n            target_f[0][action] \u003d target\n            self.model.fit(state, target_f, epochs\u003d1, verbose\u003d0)\n        if self.epsilon \u003e self.epsilon_min:\n            self.epsilon *\u003d self.epsilon_decay",
      "metadata": {
        "pycharm": {
          "metadata": false,
          "name": "#%%\n",
          "is_executing": false
        }
      }
    },
    {
      "cell_type": "markdown",
      "source": "#### Target network\nTwo networks are created. The first one is used to get the Q-values while the second one includes all updates in the training.\nThe parameters of the target network $\\theta^-$ are copied every $\\tau$ updates from the online network and kept fixed on all other steps.\nThanks to this target network the Q-value targets are fixed temporarily so that we do not have a moving target to chase. For each transition $\u003cs, a_j, r, s\u0027\u003e$ we do the following:\n- Use the target network to compute a target $t \u003d r +\\gamma \\max_a Q(s\u0027,a; \\theta^-)$\n- Use the online network to predict the output for $s$: $\\{Q(s, a_1;\\theta), ..., Q(s, a_n;\\theta)\\}$\n- Replace $Q(s, a_j;\\theta)$ with $t$ to get the corrected output for $s$\n- Train the online network using $s$ as the input and the corrected output as the output\n\n### Double Deep Q-Learning\nThe goal of Double Q-Learning is to reduce overestimations made on action values by DQL by decomposing the max operation present in the target $t$ into action selection and action evaluation.  \nIndeed the target computed using DQL can be written as $t_{DQL} \u003d r+\\gamma\\max_aQ(s\u0027,a;\\theta)$ where $\\theta$ represent the parameters of the network.  \nIn the DDQL algorithm two sets of weights $\\theta$ and $\\theta\u0027$ are used, one to determine the greedy policy and the other one to determine its value. \nThe Double Q-learning target can thus be written $t_{DDQL} \u003d r + \\gamma Q(s\u0027, \\underset{a}{\\operatorname{argmax}}Q(s\u0027,a;\\theta) ;\\theta\u0027)$. \nSo we use one network to see which action $a$ maximizes the Q value associated to $s\u0027$ and another network to evaluate the value of that action when it is associated to $s\u0027$. For instance we could used the online network as $\\theta$ and the target network $\\theta^-$ as $\\theta\u0027$.\n\n### Dueling Network Architectures\nNotations: The advantage function $A^{\\pi}(s,a) \u003d Q^{\\pi}(s,a) - U^{\\pi}(s)$ subtracts the value that we get when we are in $s$ and follow $\\pi$ from the value that we get when we are in $s$, do $a$ and then follow $\\pi$. The advantage function thus measures the importance of each action.  \nInstead of using conventional architectures for DQL the idea is to use a dueling network representing two separate estimators. \nThe state value function $U(s)$ is estimated separately from the state-dependent action advantage function $A(s,a)$.\nThe idea is to allow the architecture to learn which states are valuable without having to learn the effect of each action for each state.  \nThe two streams of the dueling Q-network are then combined via an aggregating layer to produce an estimate of $Q(s,a)$.  \n\nFor many states it is unnecessary to estimate the value of each action choice however it is often important to estimate state values for every state. The state values are approximated in a better way thanks to this dueling architecture. In the classic architecture only the value for one of the action is updated and the values for the other actions remained untouched. Here the state values are updated with each update of the Q values.\n\n### Prioritized experience replay\nWith $DQL$ we sample uniformly from the replay buffer while we would like to sample more frequently transitions from which there is much to learn.\nThe priority of a transition $\u003cs,a,r,s\u0027\u003e$ can be expressed as $p_i \u003d |r + \\gamma \\max_{a\u0027}Q(s,a\u0027;\\theta) - Q(s, a;\\theta^-)|$. The probability for this transition to be chosen for replay is thus $p \u003d \\frac{p_i^{\\omega}}{\\sum_kp_k^{\\omega}}$ with $\\omega$ a hyper-parameter used to reintroduce randomness in the selection of the transitions. If $\\omega\u003d0$ the transitions are selected randomly but if $\\omega\u003d1$ only the transitions with the highest priorities are selected.  \nWe also need to reduce the weights of the examples which are often seen to be sure that we do not update the weights only with a small portion of transitions that we believe are important.\nIn order to do that we use importance sampling weights: $(\\frac{1}{N}.\\frac{1}{p})^b$. At the beginning of the learning $b\u003d0$ so that these weights do not affect the sampling but at the end of the learning when the Q values begin to converge $b$ is set closer to $1$ so that we do not keep sampling the same group of transitions to train the network.\n### Distributional Q-Learning\nRemember, $Q^{\\pi}(s,a)$ represents the expected value of the total future rewards that we get if we are in $s$, do $a$ then follow the policy $\\pi$.  \nIt would be more interesting to model the distribution of the total future rewards rather than restrict ourselves to the expected value which is the Q function.\nIndeed if the environment is stochastic and the distribution of future rewards follows a multimodal distribution then choosing actions based on expected value may lead to suboptimal outcomes.  \nA random variable $Z(s,a)$ called the Value Distribution is thus used instead of $Q(s,a)$ in the Bellman equation. $Z(s,a)$ which is no longer a scalar quantity like $Q(s,a)$ can be represented as a discrete distribution parameterized by a number of discrete values.  \nWhen does the distributional part come into play and make the network smarter about selecting the actions ?\n\n## Reinforcement Learning - Policy Optimization\nThe idea is to consider parametric policies $\\pi_{theta}$ so that when we are in a state $s$ we can choose an action $a$ according to a parameter vector $\\theta$ of $n$ parameters. Te goal is thus to tune this vector of parameters $\\theta$ in order to select the best action to take for policy $\\pi$.\nPolicy-based methods allow us to directly learn the policy function mapping states to actions without having to learn a value function telling us what is the expected sum of rewards given a state and an action.  \nAdvantages:  \n- Better convergence properties\n- More effective in high-dimensional or continuous action spaces since the goal is to learn a set of parameters and not to assign a score for each possible action given the current state.\n- Able to learn stochastic policies while value functions can not.  \n\nDisadvantages:\n- Often converge on a local maximum rather than on the global optimum\n\n### Policy Gradient\n\nThe goal of policy gradient algorithms is to optimize parameterized policies with respect to the long-term cumulative reward. $\\pi_{\\theta}(a|s)$ outputs the probability of taking action $a$ given state $s$ with parameters $\\theta$. We have to find the best parameters $\\theta$ to maximize a score function $J(\\theta)$.  \nThe first step is thus to measure the quality of a policy $\\pi$ with a score function $J(\\theta)$ and the second step is to use policy gradient ascent to find the best parameter $\\theta$ that improves $\\pi$.  \nThe score function can also be written: $J(\\theta) \u003d E_{\\pi}(Q^{\\pi}(s,a)) \u003d \\sum_sd^{\\pi}(s)\\sum_a \\pi_{\\theta}(a|s)Q^{\\pi}(s,a)$ where $d^{\\pi}(s)$ represents the state distribution under $\\pi$.  \nWe can show that $\\nabla_{\\theta}J(\\theta) \\propto E_{\\pi}(Q^{\\pi}(s,a)\\nabla_{\\theta}\\ln \\pi_{\\theta}(a|s))$  \nThe parameters of the policy are then updated the following way: $\\theta_{k+1} \u003d \\theta_k + \\alpha_k\\nabla_{\\theta}J(\\theta_{k})$  \nPolicy Gradient algorithms cause the parameters to move most in the direction that favors actions with the highest returns.\n\n#### Reinforce (Monte-Carlo policy gradient)\nThis method uses real sample trajectories to update the policy parameter $\\theta$.\nAlgorithm:\n- Initialize the policy parameter $\\theta$ at random\n- Generate one trajectory on policy $\\pi_{\\theta}$: $S_1, A_1, R_2, S_2, A_2, ..., S_T$\n- For $t\u003d1, 2, ..., T$:\n    - Estimate $G_t \u003d R_{t+1} + \\gamma R_{t+2} + \\gamma^2R_{t+3} + ...$ \n    - Update the parameter $\\theta \u003d \\theta + \\alpha G_t \\nabla_{\\theta}\\ln \\pi_{\\theta}(A_t|S_t)$\n\n#### Actor Critic \nThis method possesses two models:\n- Critic updates the value function parameters $\\omega$\n- Actor updates the policy parameters $\\theta in the direction suggested by the value function  \n\nAlgorithm:\n- Initialize $s, \\theta, \\omega$ at random, sample $a$ according to $\\pi_{\\theta}(a|s)$\n- For $t\u003d1, ..., T$:\n    - Sample reward $r$ and next state $s\u0027$\n    - Sample the next action $a\u0027$ according to $\\pi_{\\theta}(a\u0027|s\u0027)$\n    - Update the policy parameters $\\theta \u003d \\theta + \\alpha_{\\theta}Q_{\\omega}(s,a)\\nabla_{\\theta}\\ln\\pi_{\\theta}(a|s)$\n    - Compute the correction for the Q-function: $\\delta \u003d r + \\gamma Q_{\\omega}(s\u0027,a\u0027) - Q_{\\omega}(s,a)$  \n    Update the parameters of the value function: $\\omega \u003d \\omega + \\alpha_{\\omega}\\delta_t\\nabla_{\\omega}Q_{\\omega}(s,a)$\n    - $a \u003d a\u0027$ and $s \u003d s\u0027$\n\n#### Off-Policy Policy Gradient\nUnlike the two previous methods this method does not collect training samples according to the policy that we try to optimize for. Instead it uses a behavioral policy $\\beta(a|s)$ to collect training observations. \nThe score of the policy that we try to optimize is thus defined as $J(\\theta) \u003d E_{s\\beta}(Q^{\\pi}(s,a)) \u003d \\sum_sd^{\\beta}(s)\\sum_a \\pi_{\\theta}(a|s)Q^{\\pi}(s,a)$  \nThe gradient can be rewritten as $\\nabla_{\\theta}J(\\theta) \u003d E_{\\beta}(\\frac{\\pi_{\\theta}(a|s)}{\\beta(a|s)}Q^{\\pi}(s,a)\\nabla_{\\theta}\\ln \\pi_{\\theta}(a|s))$\n     \n#### Asynchronous Advantage Actor-Critic\nThis method focuses on parallel training.  \nWe start by constructing a global network with two output layers, one for the value function and one for the policy. Then a set of agents possessing their own network and environment are created. Each of these workers run on a separate processor thread.  \nTo start with each worker sets its network parameters to the ones of the global network. Then the workers interact with their copy of the environment and collect experiences $(s, a, r, s\u0027, \\mbox{done}, \\mbox{value})$ to compute value and policy losses which are then used to get gradients.\nEach worker uses these gradients to update the global network\u0027s parameters.  \nOnce an update is made the worker resets its network parameters to the ones of the global network and the process repeats.\n\n#### Deterministic Policy Gradient\nThis method models the policy as a deterministic decision: $\\pi(s) \u003d\\mu(s) \u003d a$\n#### Deep Deterministic Policy Gradient\nThis off-policy actor critic algorithm combines Deterministic Policy Gradient with Deep Q-Network.\n#### Proximal Policy Optimization\nThe idea is to avoid parameter updates that change the policy too much at one step.\n#### Actor Critic with experience replay\nThis method is A3C\u0027s off-policy counterpart.\n#### Soft Actor Critic\nThis is an off-policy actor critic model following the maximum entropy reinforcement learning framework. \n## Gym environments\n\n### Frozen Lake - 16 states\n",
      "metadata": {
        "pycharm": {
          "metadata": false,
          "name": "#%% md\n"
        }
      }
    },
    {
      "cell_type": "code",
      "execution_count": 11,
      "outputs": [],
      "source": "import gym\nimport numpy as np\nimport random\n\nenv \u003d gym.make(\u0027FrozenLake-v0\u0027)",
      "metadata": {
        "pycharm": {
          "metadata": false,
          "name": "#%%\n",
          "is_executing": false
        }
      }
    },
    {
      "cell_type": "markdown",
      "source": "\n#### Description\nStates: There are 16 different states that represent the different parts of the lake. An agent wants to go from a starting point (S) to a goal (G) situated on the other side of the lake.\nSome states are traversable (F) but others are holes (H) that lead the agent to fall into the water.\nThe surface can be represented using the following grid:  \n  SFFF  \n  FHFH  \n  FFFH  \n  HFFG\n\nActions: There are 4 different actions that the agent can do when he is in a state: [LEFT, DOWN, RIGHT, UP].\n\nTransition model: If the agent wishes to execute an action, this action is executed correctly with a probability of 0.8 and causes the agent to move at a right angle with a probability of 0.2.\nThe 0.2 is distributed uniformly over the two possible right angles.\n\nRewards: +1 if the agent reaches the goal, -1 if the agent falls down a hole and -0.04 if the agent is on a frozen surface.\n\n#### Value Iteration",
      "metadata": {
        "pycharm": {
          "metadata": false
        }
      }
    },
    {
      "cell_type": "code",
      "execution_count": 12,
      "outputs": [
        {
          "name": "stdout",
          "text": [
            "[0.2223427  0.04871172 0.22713291 0.04871172 0.29735898 0.\n 0.32511109 0.         0.51000055 0.77848739 0.7034231  0.\n 0.         0.88176572 0.95631397 0.        ]\n"
          ],
          "output_type": "stream"
        }
      ],
      "source": "env \u003d env.unwrapped\ngamma \u003d 0.99\nmax_iter \u003d 100000\nepsilon \u003d 1e-20\nprint(value_iteration(env, gamma, max_iter, epsilon))",
      "metadata": {
        "pycharm": {
          "metadata": false,
          "name": "#%%\n",
          "is_executing": false
        }
      }
    },
    {
      "cell_type": "markdown",
      "source": "To visualize the policy produced by this utility:",
      "metadata": {
        "pycharm": {
          "metadata": false,
          "name": "#%% md\n"
        }
      }
    },
    {
      "cell_type": "code",
      "execution_count": 14,
      "outputs": [
        {
          "name": "stdout",
          "text": [
            "DRDL\nDHDH\nRDLH\nHRRH\n"
          ],
          "output_type": "stream"
        }
      ],
      "source": "def visualize_policy(policy):\n    visu \u003d \u0027\u0027\n    for k in range(len(policy)):\n        if k \u003e 0 and k%4 \u003d\u003d 0:\n            visu +\u003d \u0027\\n\u0027\n        if k \u003d\u003d 5 or k \u003d\u003d 7 or k \u003d\u003d 11 or k \u003d\u003d 12 or k \u003d\u003d 15:\n            visu+\u003d\u0027H\u0027\n        elif int(policy[k]) \u003d\u003d 0:\n            visu +\u003d \u0027L\u0027\n        elif int(policy[k]) \u003d\u003d 1:\n            visu +\u003d \u0027D\u0027\n        elif int(policy[k]) \u003d\u003d 2:\n            visu +\u003d \u0027R\u0027\n        elif int(policy[k]) \u003d\u003d 3:\n            visu +\u003d \u0027U\u0027\n    print(visu)\n    \nU \u003d value_iteration(env, gamma, max_iter, epsilon)\npolicy \u003d improve_policy(U, gamma)\nvisualize_policy(policy)",
      "metadata": {
        "pycharm": {
          "metadata": false,
          "name": "#%%\n",
          "is_executing": false
        }
      }
    },
    {
      "cell_type": "markdown",
      "source": "#### Policy Iteration",
      "metadata": {
        "pycharm": {
          "metadata": false,
          "name": "#%% md\n"
        }
      }
    },
    {
      "cell_type": "code",
      "execution_count": 15,
      "outputs": [
        {
          "name": "stdout",
          "text": [
            "DRDL\nDHDH\nRDLH\nHRRH\n"
          ],
          "output_type": "stream"
        }
      ],
      "source": "policy \u003d policy_iteration(env, gamma, max_iter, epsilon)\nvisualize_policy(policy)",
      "metadata": {
        "pycharm": {
          "metadata": false,
          "name": "#%%\n",
          "is_executing": false
        }
      }
    },
    {
      "cell_type": "markdown",
      "source": "#### Q-Learning",
      "metadata": {
        "pycharm": {
          "metadata": false,
          "name": "#%% md\n"
        }
      }
    },
    {
      "cell_type": "code",
      "execution_count": 50,
      "outputs": [
        {
          "name": "stdout",
          "text": [
            "[[ 6.35905728e-03  3.09350703e-01 -2.71832643e-02  2.77274261e-03]\n [ 5.96587139e-02 -6.55011217e-01 -8.22820604e-02 -8.12625707e-02]\n [ 5.49209966e-03  2.84106173e-01  4.53646241e-03  1.11218709e-01]\n [ 2.50445750e-02 -8.56790616e-01 -2.41253193e-01 -1.53908077e-01]\n [-1.34074265e-02  4.20715798e-01 -8.60762581e-01 -5.66066013e-03]\n [ 0.00000000e+00  0.00000000e+00  0.00000000e+00  0.00000000e+00]\n [-7.78963827e-01  5.55315856e-01 -7.69446720e-01 -1.34239034e-01]\n [ 0.00000000e+00  0.00000000e+00  0.00000000e+00  0.00000000e+00]\n [ 8.60896222e-04 -7.79213589e-01  6.22199669e-01  3.57068904e-02]\n [ 3.52129562e-01  8.06585695e-01  5.90488337e-01 -6.99911834e-01]\n [ 7.29857260e-01  5.30806476e-01 -6.32646685e-01  2.45659611e-01]\n [ 0.00000000e+00  0.00000000e+00  0.00000000e+00  0.00000000e+00]\n [ 0.00000000e+00  0.00000000e+00  0.00000000e+00  0.00000000e+00]\n [-6.92156358e-01  6.64914853e-01  8.85204796e-01  6.74859069e-01]\n [ 8.17564149e-01  8.88419432e-01  9.15079686e-01  7.06122222e-01]\n [ 0.00000000e+00  0.00000000e+00  0.00000000e+00  0.00000000e+00]]\n"
          ],
          "output_type": "stream"
        }
      ],
      "source": "alpha, gamma \u003d 0.05, 0.99\nnb_episodes, nb_steps \u003d 10000, 100\nepsilon \u003d 1\nepsilon_min \u003d 0.01\nepsilon_decay \u003d 0.9999\nq_table \u003d q_learning(env, alpha, gamma, nb_episodes, nb_steps, epsilon, epsilon_min, epsilon_decay)\nprint(q_table)\n",
      "metadata": {
        "pycharm": {
          "metadata": false,
          "name": "#%%\n",
          "is_executing": false
        }
      }
    },
    {
      "cell_type": "markdown",
      "source": "If we look at the action which maximizes the Q-value for each state we can visualize the policy produced by the Q-table:  ",
      "metadata": {
        "pycharm": {
          "metadata": false
        }
      }
    },
    {
      "cell_type": "code",
      "execution_count": 51,
      "outputs": [
        {
          "name": "stdout",
          "text": [
            "DLDL\nDHDH\nRDLH\nHRRH\n"
          ],
          "output_type": "stream"
        }
      ],
      "source": "def q_to_policy(Q):\n    policy \u003d []\n    for l in Q:\n        if l[0] \u003d\u003d l[1] \u003d\u003d l[2] \u003d\u003d l[3] \u003d\u003d 0.0:\n            policy.append(0)\n        else:\n            for k in range(0, len(l)):\n                if l[k] \u003d\u003d max(l):\n                    policy.append(k)\n                    break\n    return policy\n                    \npolicy \u003d q_to_policy(q_table)\nvisualize_policy(policy)",
      "metadata": {
        "pycharm": {
          "metadata": false,
          "name": "#%%\n",
          "is_executing": false
        }
      }
    },
    {
      "cell_type": "markdown",
      "source": "##### Different exploration strategies\nTo compare the effect of different exploration strategies on this non-deterministic Q-Learning algorithm we decided to compute $100$ policies for each strategy and to look at the mean of their average total rewards.  \n",
      "metadata": {
        "pycharm": {
          "metadata": false,
          "name": "#%% md\n"
        }
      }
    },
    {
      "cell_type": "code",
      "execution_count": 17,
      "outputs": [],
      "source": "def run_episode(env, policy):\n    \"\"\" Runs an episode and returns the total reward \"\"\"\n    obs \u003d env.reset()\n    total_reward \u003d 0\n    while True:\n        obs, reward, done, _ \u003d env.step(int(policy[obs]))\n        total_reward +\u003d reward\n        if done:\n            break\n    return total_reward\n\ndef evaluate_policy(env, policy, n_eval):\n    \"\"\" Runs n episodes and returns the average of the n total rewards\"\"\"\n    scores \u003d [run_episode(env, policy) for _ in range(n_eval)]\n    return np.mean(scores)\n\ndef running_q_learning_n_times(n, n_eval, env, alpha, gamma, nb_episodes, nb_steps, epsilon, epsilon_min, epsilon_decay):\n    scores \u003d []\n    for k in range(n):\n        print(k)\n        q_table \u003d q_learning(env, alpha, gamma, nb_episodes, nb_steps, epsilon, epsilon_min, epsilon_decay)\n        policy \u003d q_to_policy(q_table)\n        score \u003d evaluate_policy(env, policy, n_eval)\n        scores.append(score)\n    return np.mean(scores)",
      "metadata": {
        "pycharm": {
          "metadata": false,
          "name": "#%%\n",
          "is_executing": false
        }
      }
    },
    {
      "cell_type": "markdown",
      "source": "The following function is used to visualize the evolution of epsilon over time.",
      "metadata": {
        "pycharm": {
          "metadata": false
        }
      }
    },
    {
      "cell_type": "code",
      "execution_count": 26,
      "outputs": [],
      "source": "import matplotlib.pyplot as plt\ndef visualizing_epsilon_decay(nb_episodes, epsilon, epsilon_min, epsilon_decay):\n    X \u003d [k for k in range(nb_episodes)]\n    Y \u003d []\n    for k in range(nb_episodes):\n        if epsilon \u003e epsilon_min:\n            epsilon *\u003d epsilon_decay\n        Y.append(epsilon)\n    plt.plot(X, Y, \u0027b\u0027)\n    plt.title(\"Decaying epsilon over the number of episodes\")\n    plt.xlabel(\"Number of episodes\")\n    plt.ylabel(\"Epsilon\")\n    plt.grid()\n    return plt.show()",
      "metadata": {
        "pycharm": {
          "metadata": false,
          "name": "#%%\n",
          "is_executing": false
        }
      }
    },
    {
      "cell_type": "markdown",
      "source": "###### Epsilon decaying slowly over the number of episodes",
      "metadata": {
        "pycharm": {
          "metadata": false,
          "name": "#%% md\n"
        }
      }
    },
    {
      "cell_type": "code",
      "execution_count": 53,
      "outputs": [
        {
          "data": {
            "text/plain": "\u003cFigure size 432x288 with 1 Axes\u003e",
            "image/png": "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\u003d\u003d\n"
          },
          "metadata": {
            "needs_background": "light"
          },
          "output_type": "display_data"
        },
        {
          "name": "stdout",
          "text": [
            "DUDL\nDHDH\nRDLH\nHRRH\n"
          ],
          "output_type": "stream"
        }
      ],
      "source": "epsilon \u003d 1\nepsilon_min \u003d 0.01\nepsilon_decay \u003d 0.9999\nvisualizing_epsilon_decay(nb_episodes, epsilon, epsilon_min, epsilon_decay)\nq_table \u003d q_learning(env, alpha, gamma, nb_episodes, nb_steps, epsilon, epsilon_min, epsilon_decay)\npolicy \u003d q_to_policy(q_table)\nvisualize_policy(policy)",
      "metadata": {
        "pycharm": {
          "metadata": false,
          "name": "#%%\n",
          "is_executing": false
        }
      }
    },
    {
      "cell_type": "markdown",
      "source": "Average total reward: 0.25\n###### Epsilon decaying quickly over the number of episodes\n",
      "metadata": {
        "pycharm": {
          "metadata": false,
          "name": "#%% md\n"
        }
      }
    },
    {
      "cell_type": "code",
      "execution_count": 54,
      "outputs": [
        {
          "data": {
            "text/plain": "\u003cFigure size 432x288 with 1 Axes\u003e",
            "image/png": "[encoded data removed]"
          },
          "metadata": {
            "needs_background": "light"
          },
          "output_type": "display_data"
        },
        {
          "name": "stdout",
          "text": [
            "DLDU\nDHDH\nRDLH\nHRRH\n"
          ],
          "output_type": "stream"
        }
      ],
      "source": "epsilon \u003d 1\nepsilon_min \u003d 0.01\nepsilon_decay \u003d 0.97\nvisualizing_epsilon_decay(nb_episodes, epsilon, epsilon_min, epsilon_decay)\nq_table \u003d q_learning(env, alpha, gamma, nb_episodes, nb_steps, epsilon, epsilon_min, epsilon_decay)\npolicy \u003d q_to_policy(q_table)\nvisualize_policy(policy)",
      "metadata": {
        "pycharm": {
          "metadata": false,
          "name": "#%%\n",
          "is_executing": false
        }
      }
    },
    {
      "cell_type": "markdown",
      "source": "Average total reward: 0.23\nOverall we get a slightly better average total reward when we decay epsilon slowly than when we do it quickly, which shows that for this environment it is important to keep exploring and not focus more on exploitation than exploration too quickly.\n#### Deep Q-Learning\n",
      "metadata": {
        "pycharm": {
          "metadata": false
        }
      }
    },
    {
      "cell_type": "code",
      "execution_count": 45,
      "outputs": [],
      "source": "from collections import deque\nfrom keras.models import Sequential\nfrom keras.layers import Dense\nfrom keras.optimizers import Adam\n\nnb_episodes \u003d 100\nstate_size \u003d 1\naction_size \u003d env.action_space.n\nagent \u003d DQNAgent(state_size, action_size)\ndone \u003d False\nbatch_size \u003d 32\n\nfor e in range(nb_episodes):\n    state \u003d env.reset()\n    state \u003d np.reshape(state, [1, state_size])\n    for time in range(nb_steps):\n        action \u003d agent.act(state)\n        next_state, reward, done, _ \u003d env.step(action)\n        next_state \u003d np.reshape(next_state, [1, state_size])\n        agent.remember(state, action, reward, next_state, done)\n        state \u003d next_state\n        if done:\n            break\n        if len(agent.memory) \u003e batch_size:\n            agent.replay(batch_size)\n                \ntrained_network \u003d agent.model",
      "metadata": {
        "pycharm": {
          "metadata": false,
          "name": "#%% \n",
          "is_executing": false
        }
      }
    },
    {
      "cell_type": "markdown",
      "source": "If we use the trained network to predict the Q-values of all the possible actions for each state we get the following Q-table:",
      "metadata": {
        "pycharm": {
          "metadata": false,
          "name": "#%% md\n"
        }
      }
    },
    {
      "cell_type": "code",
      "execution_count": 46,
      "outputs": [
        {
          "name": "stdout",
          "text": [
            "[[-0.60448682 -0.64822328 -0.62004399 -0.610021  ]\n [-0.63093698 -0.74905401 -0.63682371 -0.64011925]\n [-0.63605452 -0.75653678 -0.66441822 -0.65457392]\n [-0.6276235  -0.71005327 -0.75152701 -0.65000015]\n [-0.61563981 -0.65237719 -0.86771119 -0.6491406 ]\n [-0.60532874 -0.64021719 -0.87936395 -0.65084916]\n [-0.62819386 -0.63695633 -0.77723658 -0.63828158]\n [-0.65712279 -0.63356704 -0.65870929 -0.62256169]\n [-0.68173188 -0.62786382 -0.54825455 -0.60617757]\n [-0.70199883 -0.61983502 -0.44591433 -0.58912587]\n [-0.72221386 -0.60275799 -0.34213671 -0.56910962]\n [-0.74237984 -0.57714486 -0.23700303 -0.54629666]\n [-0.76254588 -0.55153185 -0.13186938 -0.52348369]\n [-0.78271198 -0.52591884 -0.02673575 -0.50067073]\n [-0.80287796 -0.50030565  0.07839805 -0.47785768]\n [-0.823044   -0.47469261  0.18353161 -0.45504475]]\n"
          ],
          "output_type": "stream"
        }
      ],
      "source": "def compute_q_table(env, network):\n    q_table \u003d np.zeros([env.observation_space.n, env.action_space.n])\n    for s in range(env.observation_space.n):\n        state \u003d np.zeros(1, int)\n        state[0] \u003d s\n        state \u003d np.reshape(state, [1, state_size])\n        q_table[s] \u003d list(network.predict(state)[0])\n    return q_table\n\nprint(compute_q_table(env, trained_network))",
      "metadata": {
        "pycharm": {
          "metadata": false,
          "name": "#%%\n",
          "is_executing": false
        }
      }
    },
    {
      "cell_type": "markdown",
      "source": "The policy produced by this Q-table is the following one:",
      "metadata": {
        "pycharm": {
          "metadata": false,
          "name": "#%% md\n"
        }
      }
    },
    {
      "cell_type": "code",
      "execution_count": 47,
      "outputs": [
        {
          "name": "stdout",
          "text": [
            "LLLL\nLHLH\nRRRH\nHRRH\n"
          ],
          "output_type": "stream"
        }
      ],
      "source": "q_table \u003d compute_q_table(env, trained_network)\npolicy \u003d q_to_policy(q_table)\nvisualize_policy(policy)",
      "metadata": {
        "pycharm": {
          "metadata": false,
          "name": "#%%\n",
          "is_executing": false
        }
      }
    },
    {
      "cell_type": "markdown",
      "source": "",
      "metadata": {
        "pycharm": {
          "metadata": false,
          "name": "#%% md"
        }
      }
    }
  ],
  "metadata": {
    "language_info": {
      "codemirror_mode": {
        "name": "ipython",
        "version": 2
      },
      "file_extension": ".py",
      "mimetype": "text/x-python",
      "name": "python",
      "nbconvert_exporter": "python",
      "pygments_lexer": "ipython2",
      "version": "2.7.6"
    },
    "kernelspec": {
      "name": "python3",
      "language": "python",
      "display_name": "Python 3"
    },
    "stem_cell": {
      "cell_type": "raw",
      "source": "",
      "metadata": {
        "pycharm": {
          "metadata": false
        }
      }
    }
  },
  "nbformat": 4,
  "nbformat_minor": 0
}